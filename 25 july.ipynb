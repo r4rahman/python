{
 "cells": [
  {
   "cell_type": "markdown",
   "metadata": {},
   "source": [
    "### File Handling"
   ]
  },
  {
   "cell_type": "code",
   "execution_count": 32,
   "metadata": {},
   "outputs": [
    {
     "data": {
      "text/plain": [
       "'Day Objectives\\n\\nIterators and Generators**\\nFunctional Programming**\\nPackages and Modules**\\n'"
      ]
     },
     "execution_count": 32,
     "metadata": {},
     "output_type": "execute_result"
    }
   ],
   "source": [
    "# Define a function to read file data for a given file \n",
    "import re\n",
    "def readfile(filename):\n",
    "    f = open(filename, 'r')\n",
    "    filedata = f.read()\n",
    "    #filedata = f.readlines()# returns a list of lines in the file\n",
    "    f.close()\n",
    "    return filedata\n",
    "\n",
    "filename = 'datafiles/data.txt'\n",
    "#len(re.split('\\ ',readfile(filename))) # number of words\n",
    "wordlist = re.split('\\ ',readfile(filename))\n",
    "readfile(filename)"
   ]
  },
  {
   "cell_type": "markdown",
   "metadata": {},
   "source": [
    "Frequency of Data \n",
    "\n",
    "1. Unique Data in the form of a Dictionary \n",
    "    ('To':0, 'introduce':0 .....)\n",
    "2. calculate the frequency for all keys in the dictionary\n",
    "    for every key in Dictionary:\n",
    "        count the number of times the key is repeating in the data \n",
    "     Assign the count of each key to the corresponding dictionary value"
   ]
  },
  {
   "cell_type": "code",
   "execution_count": 25,
   "metadata": {},
   "outputs": [
    {
     "data": {
      "text/plain": [
       "{'Day': 1,\n",
       " 'Objectives\\n\\nIterators': 1,\n",
       " 'and': 1,\n",
       " 'Generators**\\nFunctional': 1,\n",
       " 'Programming**\\nPackages': 1,\n",
       " 'Modules**\\n': 1}"
      ]
     },
     "execution_count": 25,
     "metadata": {},
     "output_type": "execute_result"
    }
   ],
   "source": [
    "# Function to extract unique words in a text files\n",
    "import re\n",
    "def extractUniqueWords(filename):\n",
    "    filedata = readfile(filename)\n",
    "    wordlist = re.split('\\ ', filedata)\n",
    "    uniqueWords = {}\n",
    "    for word in wordlist:\n",
    "        if word not in uniqueWords:\n",
    "            uniqueWords[word] = 1\n",
    "    return uniqueWords\n",
    "filename = 'datafiles/data.txt'\n",
    "uniqueWords = extractUniqueWords(filename)\n",
    "\n",
    "# Function to calculate the frequency of words of given data\n",
    "extractUniqueWords(filename)\n",
    "\n"
   ]
  },
  {
   "cell_type": "code",
   "execution_count": null,
   "metadata": {},
   "outputs": [],
   "source": []
  },
  {
   "cell_type": "code",
   "execution_count": null,
   "metadata": {},
   "outputs": [],
   "source": []
  }
 ],
 "metadata": {
  "kernelspec": {
   "display_name": "Python 3",
   "language": "python",
   "name": "python3"
  },
  "language_info": {
   "codemirror_mode": {
    "name": "ipython",
    "version": 3
   },
   "file_extension": ".py",
   "mimetype": "text/x-python",
   "name": "python",
   "nbconvert_exporter": "python",
   "pygments_lexer": "ipython3",
   "version": "3.7.3"
  }
 },
 "nbformat": 4,
 "nbformat_minor": 2
}
