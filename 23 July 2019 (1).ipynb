{
 "cells": [
  {
   "cell_type": "markdown",
   "metadata": {},
   "source": [
    "#### Date : 23 July 2019\n",
    "\n",
    "#### Day Objectives\n",
    "* Tuples \n",
    "* Dictionaries\n",
    "* Regular Expression\n",
    "* Date and Time Arithmetic\n",
    "* Iterators"
   ]
  },
  {
   "cell_type": "markdown",
   "metadata": {},
   "source": [
    "#### Python Tuples"
   ]
  },
  {
   "cell_type": "code",
   "execution_count": 1,
   "metadata": {},
   "outputs": [],
   "source": [
    "t1 = (1001, 'name', 72, 90)"
   ]
  },
  {
   "cell_type": "code",
   "execution_count": 5,
   "metadata": {},
   "outputs": [
    {
     "data": {
      "text/plain": [
       "(72, 90)"
      ]
     },
     "execution_count": 5,
     "metadata": {},
     "output_type": "execute_result"
    }
   ],
   "source": [
    "t1[0]\n",
    "t1[2:]"
   ]
  },
  {
   "cell_type": "code",
   "execution_count": 15,
   "metadata": {},
   "outputs": [
    {
     "name": "stdout",
     "output_type": "stream",
     "text": [
      "2 5 8\n"
     ]
    }
   ],
   "source": [
    "t2 = (321, 654, 789098, 6453, 75456)\n",
    "# Accessing all the second digits of elements in a tuple\n",
    "print(str(t2[0])[1],  str(t2[1])[1], str(t2[2])[1])"
   ]
  },
  {
   "cell_type": "code",
   "execution_count": 18,
   "metadata": {},
   "outputs": [
    {
     "data": {
      "text/plain": [
       "476.2"
      ]
     },
     "execution_count": 18,
     "metadata": {},
     "output_type": "execute_result"
    }
   ],
   "source": [
    "# Funtion to calculate the Average of all elements in a tuple\n",
    "def averageTuple(t):\n",
    "    sum = 0\n",
    "    for i in range(0, len(t)):\n",
    "        sum += t[i]\n",
    "    return sum/len(t)\n",
    "li = [123, 243, 455, 670, 890]\n",
    "averageTuple(li)\n",
    "    "
   ]
  },
  {
   "cell_type": "code",
   "execution_count": 22,
   "metadata": {},
   "outputs": [
    {
     "data": {
      "text/plain": [
       "2"
      ]
     },
     "execution_count": 22,
     "metadata": {},
     "output_type": "execute_result"
    }
   ],
   "source": [
    "# Funtion to search in a Linear Data Structure\n",
    "\n",
    "def searchLinearDs(ds, key):\n",
    "    for i in range(0, len(ds)):\n",
    "        if ds[i] == key:\n",
    "            return i\n",
    "    return -1\n",
    "    \n",
    "searchLinearDs(li, 455)\n"
   ]
  },
  {
   "cell_type": "markdown",
   "metadata": {},
   "source": [
    "#### Iterable Objects"
   ]
  },
  {
   "cell_type": "code",
   "execution_count": 24,
   "metadata": {},
   "outputs": [
    {
     "data": {
      "text/plain": [
       "890"
      ]
     },
     "execution_count": 24,
     "metadata": {},
     "output_type": "execute_result"
    }
   ],
   "source": [
    "# Funtion to identify the maximum element in a ds as Iterable object\n",
    "\n",
    "def maxElementDs(ds):\n",
    "    m = 0\n",
    "    for item in ds:\n",
    "        if item > m:\n",
    "            m = item\n",
    "    return m\n",
    "\n",
    "maxElementDs(li)"
   ]
  },
  {
   "cell_type": "markdown",
   "metadata": {},
   "source": [
    "#### Python Dictionaries"
   ]
  },
  {
   "cell_type": "code",
   "execution_count": 34,
   "metadata": {},
   "outputs": [
    {
     "name": "stdout",
     "output_type": "stream",
     "text": [
      "321324523\n"
     ]
    },
    {
     "data": {
      "text/plain": [
       "dict_values([12344232, 321324523])"
      ]
     },
     "execution_count": 34,
     "metadata": {},
     "output_type": "execute_result"
    }
   ],
   "source": [
    "d1 = {'name1':12344232, 'name2':321324523}\n",
    "print(d1['name2'])\n",
    "d1.keys() # All keys in a dictionary are unique\n",
    "d1.values()\n"
   ]
  },
  {
   "cell_type": "code",
   "execution_count": 41,
   "metadata": {},
   "outputs": [
    {
     "data": {
      "text/plain": [
       "{'name2': 321324523,\n",
       " 'name1': 45151541545,\n",
       " 'name3': 45151541545,\n",
       " 'name4': 45151541545}"
      ]
     },
     "execution_count": 41,
     "metadata": {},
     "output_type": "execute_result"
    }
   ],
   "source": [
    "d1['name4'] = 45151541545\n",
    "d1"
   ]
  },
  {
   "cell_type": "code",
   "execution_count": 42,
   "metadata": {},
   "outputs": [
    {
     "data": {
      "text/plain": [
       "{'name2': 321324523, 'name1': 45151541545, 'name3': 45151541545}"
      ]
     },
     "execution_count": 42,
     "metadata": {},
     "output_type": "execute_result"
    }
   ],
   "source": [
    "d1.pop('name4') # Removes a key and value\n",
    "d1"
   ]
  },
  {
   "cell_type": "markdown",
   "metadata": {},
   "source": []
  },
  {
   "cell_type": "code",
   "execution_count": 53,
   "metadata": {},
   "outputs": [],
   "source": [
    "# Contacts Application\n",
    "# Display, Add, Modify and Delete Contacts\n",
    "\n",
    "\n",
    "contacts = {}\n",
    "\n",
    "def addContact(d, name, phone):\n",
    "    d[name] = phone\n",
    "    return\n",
    "\n",
    "\n",
    "def displayContacts(contacts):\n",
    "    for name, phone in contacts.items():\n",
    "        print(name, \":\", phone)\n",
    "    return\n",
    "\n",
    "def modifyContacts(contacts, name, newphone):\n",
    "    contacts[name] = newphone\n",
    "    return\n",
    "\n",
    "def deleteContact(contacts, name):\n",
    "    contacts.pop(name)\n",
    "    return\n",
    "    "
   ]
  },
  {
   "cell_type": "code",
   "execution_count": 57,
   "metadata": {},
   "outputs": [],
   "source": [
    "addContact(contacts, 'name2', 8877841567)\n",
    "addContact(contacts, 'name1', 8877841111)"
   ]
  },
  {
   "cell_type": "code",
   "execution_count": 60,
   "metadata": {},
   "outputs": [
    {
     "name": "stdout",
     "output_type": "stream",
     "text": [
      "name1 : 9825468971\n",
      "name2 : 8877841567\n"
     ]
    }
   ],
   "source": [
    "displayContacts(contacts)"
   ]
  },
  {
   "cell_type": "code",
   "execution_count": 51,
   "metadata": {},
   "outputs": [
    {
     "data": {
      "text/plain": [
       "dict_items([('name2', 8877841567), ('name1', 8877841111)])"
      ]
     },
     "execution_count": 51,
     "metadata": {},
     "output_type": "execute_result"
    }
   ],
   "source": [
    "contacts.items() # List of all items "
   ]
  },
  {
   "cell_type": "code",
   "execution_count": 59,
   "metadata": {},
   "outputs": [],
   "source": [
    "modifyContacts(contacts, 'name1',9825468971)"
   ]
  },
  {
   "cell_type": "code",
   "execution_count": 5,
   "metadata": {},
   "outputs": [
    {
     "data": {
      "text/plain": [
       "[4, 3, 2, 1]"
      ]
     },
     "execution_count": 5,
     "metadata": {},
     "output_type": "execute_result"
    }
   ],
   "source": [
    "li2 = [1, 2, 3, 4]\n",
    "li2 = list(reversed(li2))\n",
    "li2"
   ]
  },
  {
   "cell_type": "markdown",
   "metadata": {},
   "source": [
    "#### Regular Expressions"
   ]
  },
  {
   "cell_type": "markdown",
   "metadata": {},
   "source": [
    "[0-9] RE for all digits\n",
    "[0, 1, 2, 3 ... 9]\n",
    "\n",
    "[a-z] RE for all lower case alphabet\n",
    "[A-Z] RE for all upper case alphabet\n",
    "\n"
   ]
  },
  {
   "cell_type": "code",
   "execution_count": null,
   "metadata": {},
   "outputs": [],
   "source": [
    "# Function to validate collage student roll no\n",
    "\n",
    "\n",
    "\n",
    "# Function to validate indian phone numbers starting 9, 8, 7, 6, and \n",
    "\n",
    "# Function to validate email address\n",
    "    username@domain.extension\n",
    "    username = {string of length 9. can contain digits, _, alphabets}\n",
    "    domain = (string of 9. can contain digits and alphabet)\n",
    "    extension = {length of 3. Only alphabet}"
   ]
  },
  {
   "cell_type": "code",
   "execution_count": null,
   "metadata": {},
   "outputs": [],
   "source": [
    "        "
   ]
  },
  {
   "cell_type": "code",
   "execution_count": 10,
   "metadata": {},
   "outputs": [
    {
     "data": {
      "text/plain": [
       "False"
      ]
     },
     "execution_count": 10,
     "metadata": {},
     "output_type": "execute_result"
    }
   ],
   "source": [
    "# Function to validate indian phone numbers starting 9, 8, 7, 6\n",
    "\n",
    "import re\n",
    "def phoneNumberValidator(phone):\n",
    "    phone = str(phone)\n",
    "    pattern = '^[6-9][0-9]{9}$'\n",
    "    if re.match(pattern, phone):\n",
    "        return True\n",
    "    return False\n",
    "\n",
    "phoneNumberValidator(9160664877)"
   ]
  },
  {
   "cell_type": "markdown",
   "metadata": {},
   "source": [
    "#### python split string by comma"
   ]
  },
  {
   "cell_type": "code",
   "execution_count": 14,
   "metadata": {},
   "outputs": [],
   "source": [
    "s1 = 'The core of extensible programming is defining functions, Python allows mandatory, optional arguments, keyword arguments, and even arbitrary argument lists.'"
   ]
  },
  {
   "cell_type": "code",
   "execution_count": 15,
   "metadata": {},
   "outputs": [
    {
     "data": {
      "text/plain": [
       "['The core of extensible programming is defining functions',\n",
       " 'Python allows mandatory',\n",
       " 'optional arguments',\n",
       " 'keyword arguments',\n",
       " 'and even arbitrary argument lists.']"
      ]
     },
     "execution_count": 15,
     "metadata": {},
     "output_type": "execute_result"
    }
   ],
   "source": [
    "inList = re.split('[,][\\ ]', s1)\n",
    "\n",
    "inList"
   ]
  },
  {
   "cell_type": "markdown",
   "metadata": {},
   "source": [
    "#### Python Date Time Arithmetic"
   ]
  },
  {
   "cell_type": "code",
   "execution_count": 16,
   "metadata": {},
   "outputs": [
    {
     "name": "stdout",
     "output_type": "stream",
     "text": [
      "15 35 15\n"
     ]
    }
   ],
   "source": [
    "import datetime\n",
    "\n",
    "now = datetime.datetime.now()\n",
    "datetime.datetime.now().year\n",
    "print(now.hour, now.minute, now.second)"
   ]
  },
  {
   "cell_type": "code",
   "execution_count": 20,
   "metadata": {},
   "outputs": [
    {
     "name": "stdout",
     "output_type": "stream",
     "text": [
      "5 days, 0:00:00\n"
     ]
    }
   ],
   "source": [
    "# Function to find the difference between two given date\n",
    "# YYYY:MM:DD is the date format as a string \n",
    "import datetime\n",
    "def dateDifference(date1, date2):\n",
    "    year1 = int(date1[:4])\n",
    "    month1 = int(date1[5:7])\n",
    "    day1 = int(date1[8:])\n",
    "    year2 = int(date2[:4])\n",
    "    month2 = int(date2[5:7])\n",
    "    day2 = int(date2[8:])\n",
    "    date1 = datetime.date(year1, month1, day1)\n",
    "    date2 = datetime.date(year2, month2, day2)\n",
    "    return date2 - date1\n",
    "\n",
    "print(dateDifference('2019:05:27','2019:06:01'))\n",
    "\n"
   ]
  },
  {
   "cell_type": "code",
   "execution_count": null,
   "metadata": {},
   "outputs": [],
   "source": []
  }
 ],
 "metadata": {
  "kernelspec": {
   "display_name": "Python 3",
   "language": "python",
   "name": "python3"
  },
  "language_info": {
   "codemirror_mode": {
    "name": "ipython",
    "version": 3
   },
   "file_extension": ".py",
   "mimetype": "text/x-python",
   "name": "python",
   "nbconvert_exporter": "python",
   "pygments_lexer": "ipython3",
   "version": "3.7.3"
  }
 },
 "nbformat": 4,
 "nbformat_minor": 2
}
