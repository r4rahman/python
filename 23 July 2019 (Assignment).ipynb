{
 "cells": [
  {
   "cell_type": "markdown",
   "metadata": {},
   "source": [
    "### Assignment\n",
    "\n",
    "    1. Write a Python program to convert a given  list to a tuple. [5, 10, 7, 4, 15, 3] \n",
    "\n",
    "    2. Write a Python program to get the 4th element from first  and 4th element from last of a tuple. \n",
    "\n",
    "    ( \"p\" , \"y\" , \"t\", \"h\" , \"o\" , \"n\" , \"p\" , \"r\" , \"o\" , \"g\" , \"r\" , \"a\" , \"m\" , \"m\" , \"i\" , \"n\" , \"g\" )\n",
    "\n",
    "    3. Write a python program to find largest number in a given list with out using max() .[10, 7 , 0 ,14 , 4 , 2 ]\n",
    "\n",
    "    4. Write a python program to print all even numbers from a given list .[111 , 4 , 7 , 16 , 27 , 40 , 18 , 99 ,101, 14]\n",
    "\n",
    "    5. Write a Python script to add a key to a dictionary. \n",
    "\n",
    "     Sample Dictionary : {0: 10, 1: 20}\n",
    "\n",
    "     Expected Result : {0: 10, 1: 20, 2: 30}\n",
    "\n",
    "    6. Write a Python script to generate and print a dictionary that contains a number (between 1 and n) in the                  form (x, x*x) \n",
    "\n",
    "     Sample Dictionary ( n = 5) : \n",
    "\n",
    "     Expected Output : {1: 1, 2: 4, 3: 9, 4: 16, 5: 25} "
   ]
  },
  {
   "cell_type": "code",
   "execution_count": null,
   "metadata": {},
   "outputs": [],
   "source": []
  },
  {
   "cell_type": "code",
   "execution_count": 1,
   "metadata": {},
   "outputs": [
    {
     "name": "stdout",
     "output_type": "stream",
     "text": [
      "[5, 10, 7, 4, 15, 3]\n",
      "(5, 10, 7, 4, 15, 3)\n"
     ]
    }
   ],
   "source": [
    "# Write a Python program to convert a given  list to a tuple. [5, 10, 7, 4, 15, 3] \n",
    "\n",
    "li = [5, 10, 7, 4, 15, 3]\n",
    "print(li)\n",
    "tup = tuple(li)\n",
    "print(tup)"
   ]
  },
  {
   "cell_type": "code",
   "execution_count": 3,
   "metadata": {},
   "outputs": [
    {
     "name": "stdout",
     "output_type": "stream",
     "text": [
      "h\n",
      "m\n"
     ]
    }
   ],
   "source": [
    "# Write a Python program to get the 4th element from first  and 4th element from last of a tuple.\n",
    "\n",
    "ele = ( \"p\" , \"y\" , \"t\", \"h\" , \"o\" , \"n\" , \"p\" , \"r\" , \"o\" , \"g\" , \"r\" , \"a\" , \"m\" , \"m\" , \"i\" , \"n\" , \"g\" )\n",
    "print(ele[3])\n",
    "print(ele[-4])"
   ]
  },
  {
   "cell_type": "code",
   "execution_count": 4,
   "metadata": {},
   "outputs": [
    {
     "data": {
      "text/plain": [
       "14"
      ]
     },
     "execution_count": 4,
     "metadata": {},
     "output_type": "execute_result"
    }
   ],
   "source": [
    "# Write a python program to find largest number in a given list with out using max() .[10, 7 , 0 ,14 , 4 , 2 ]\n",
    "\n",
    "lis = [10, 7 , 0 ,14 , 4 , 2 ]\n",
    "def maxElementDs(ds):\n",
    "    m = 0\n",
    "    for item in lis:\n",
    "        if item > m:\n",
    "            m = item\n",
    "    return m\n",
    "\n",
    "maxElementDs(lis)"
   ]
  },
  {
   "cell_type": "code",
   "execution_count": 8,
   "metadata": {},
   "outputs": [
    {
     "name": "stdout",
     "output_type": "stream",
     "text": [
      "4\n",
      "16\n",
      "40\n",
      "18\n",
      "14\n"
     ]
    }
   ],
   "source": [
    "# Write a python program to print all even numbers from a given list .[111 , 4 , 7 , 16 , 27 , 40 , 18 , 99 ,101, 14]\n",
    "\n",
    "element = [111 , 4 , 7 , 16 , 27 , 40 , 18 , 99 ,101, 14]\n",
    "for num in element:\n",
    "    if num % 2 ==0:\n",
    "        print(num)"
   ]
  },
  {
   "cell_type": "code",
   "execution_count": 9,
   "metadata": {},
   "outputs": [
    {
     "name": "stdout",
     "output_type": "stream",
     "text": [
      "{0: 10, 1: 20}\n",
      "{0: 10, 1: 20, 2: 3}\n"
     ]
    }
   ],
   "source": [
    "# Write a Python script to add a key to a dictionary.\n",
    "\n",
    "sample = {0:10, 1:20}\n",
    "print(sample)\n",
    "sample[2]=3\n",
    "print(sample)"
   ]
  },
  {
   "cell_type": "code",
   "execution_count": 13,
   "metadata": {},
   "outputs": [
    {
     "name": "stdout",
     "output_type": "stream",
     "text": [
      "{1: 1, 2: 4, 3: 9, 4: 16, 5: 25}\n"
     ]
    }
   ],
   "source": [
    "# Write a Python script to generate and print a dictionary that contains \n",
    "# a number (between 1 and n) in the                  form (x, x*x) \n",
    "\n",
    "sq = {x: x*x for x in range(1,6)}\n",
    "print(squares)"
   ]
  },
  {
   "cell_type": "code",
   "execution_count": null,
   "metadata": {},
   "outputs": [],
   "source": []
  }
 ],
 "metadata": {
  "kernelspec": {
   "display_name": "Python 3",
   "language": "python",
   "name": "python3"
  },
  "language_info": {
   "codemirror_mode": {
    "name": "ipython",
    "version": 3
   },
   "file_extension": ".py",
   "mimetype": "text/x-python",
   "name": "python",
   "nbconvert_exporter": "python",
   "pygments_lexer": "ipython3",
   "version": "3.7.3"
  }
 },
 "nbformat": 4,
 "nbformat_minor": 2
}
